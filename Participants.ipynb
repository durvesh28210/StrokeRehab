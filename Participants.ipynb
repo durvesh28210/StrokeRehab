{
 "cells": [
  {
   "cell_type": "markdown",
   "metadata": {},
   "source": [
    "Stroke Rehabilitation"
   ]
  },
  {
   "cell_type": "markdown",
   "metadata": {},
   "source": [
    "Data Handling and Analysis"
   ]
  },
  {
   "cell_type": "code",
   "execution_count": 1,
   "metadata": {},
   "outputs": [],
   "source": [
    "from scipy.io import loadmat\n",
    "import os\n",
    "import json\n",
    "import pandas as pd\n",
    "import seaborn as sns\n",
    "import matplotlib.pyplot as plt"
   ]
  },
  {
   "cell_type": "code",
   "execution_count": 2,
   "metadata": {},
   "outputs": [],
   "source": [
    "folder_path = \"E:\\Dataset\"\n"
   ]
  },
  {
   "cell_type": "code",
   "execution_count": 3,
   "metadata": {},
   "outputs": [
    {
     "name": "stdout",
     "output_type": "stream",
     "text": [
      "Dataset files: ['code', 'code.zip', 'dataset_description.json', 'edffile', 'edffile.zip', 'extracted_code', 'participants.json', 'participants.tsv', 'README.md', 'sourcedata', 'sourcedata.zip', 'stimuli', 'stimuli.zip', 'task-motor-imagery_channels.tsv', 'task-motor-imagery_coordsystem.json', 'task-motor-imagery_eeg.json', 'task-motor-imagery_electrodes.tsv', 'task-motor-imagery_events.json', 'task-motor-imagery_events.tsv', 'test_env']\n"
     ]
    }
   ],
   "source": [
    "files = os.listdir(folder_path)\n",
    "print(\"Dataset files:\", files)"
   ]
  },
  {
   "cell_type": "code",
   "execution_count": 5,
   "metadata": {},
   "outputs": [
    {
     "name": "stdout",
     "output_type": "stream",
     "text": [
      "Participants DataFrame:\n",
      "  Participant_ID  Gender  Age  Duration ParalysisSide Handedness IsFirstTime  \\\n",
      "0         sub-01    male   45         1         right      right         yes   \n",
      "1         sub-02    male   60         2          left      right         yes   \n",
      "2         sub-03    male   60         2          left      right          no   \n",
      "3         sub-04    male   56        14         right      right         yes   \n",
      "4         sub-05  female   44         4          left      right         yes   \n",
      "\n",
      "                                      StrokeLocation  NIHSS  MBI  mRS  \n",
      "0                                          Left pons     11   50    4  \n",
      "1                                         Right pons      3   55    4  \n",
      "2  Left cerebellum, bilateral paraventricular, Ri...      3   90    1  \n",
      "3  Left frontal parietal cortex, Left centrum sem...      6   90    3  \n",
      "4                                          Left pons      4   60    4  \n",
      "<class 'pandas.core.frame.DataFrame'>\n",
      "RangeIndex: 50 entries, 0 to 49\n",
      "Data columns (total 11 columns):\n",
      "Participant_ID    50 non-null object\n",
      "Gender            50 non-null object\n",
      "Age               50 non-null int64\n",
      "Duration          50 non-null int64\n",
      "ParalysisSide     50 non-null object\n",
      "Handedness        50 non-null object\n",
      "IsFirstTime       50 non-null object\n",
      "StrokeLocation    50 non-null object\n",
      "NIHSS             50 non-null int64\n",
      "MBI               50 non-null int64\n",
      "mRS               50 non-null int64\n",
      "dtypes: int64(5), object(6)\n",
      "memory usage: 4.4+ KB\n",
      "None\n",
      "             Age  Duration      NIHSS         MBI        mRS\n",
      "count  50.000000  50.00000  50.000000   50.000000  50.000000\n",
      "mean   56.700000   5.78000   4.160000   70.940000   2.680000\n",
      "std    10.573841   6.90841   2.852568   18.221326   1.448997\n",
      "min    31.000000   1.00000   1.000000   32.000000   0.000000\n",
      "25%    52.000000   2.00000   2.000000   55.000000   1.000000\n",
      "50%    57.500000   3.00000   3.000000   70.000000   3.000000\n",
      "75%    63.750000   6.00000   6.000000   85.000000   4.000000\n",
      "max    77.000000  30.00000  11.000000  100.000000   5.000000\n",
      "-----------------------------------------\n",
      "Events DataFrame:\n",
      "   onset  duration  trial_type  response_time  value  stim_file\n",
      "0      1      2000           1            NaN      1  stim1.png\n",
      "1   2001      4000           1            NaN      2  stim2.mp4\n",
      "2   6001      2000           1            NaN      3  stim3.png\n",
      "3   8001      2000           2            NaN      1  stim1.png\n",
      "4  10001      4000           2            NaN      2  stim2.mp4\n",
      "<class 'pandas.core.frame.DataFrame'>\n",
      "RangeIndex: 120 entries, 0 to 119\n",
      "Data columns (total 6 columns):\n",
      "onset            120 non-null int64\n",
      "duration         120 non-null int64\n",
      "trial_type       120 non-null int64\n",
      "response_time    0 non-null float64\n",
      "value            120 non-null int64\n",
      "stim_file        120 non-null object\n",
      "dtypes: float64(1), int64(4), object(1)\n",
      "memory usage: 5.7+ KB\n",
      "None\n",
      "               onset     duration  trial_type  response_time      value\n",
      "count     120.000000   120.000000  120.000000            0.0  120.00000\n",
      "mean   158667.666667  2666.666667    1.500000            NaN    2.00000\n",
      "std     92768.197004   946.762137    0.502096            NaN    0.81992\n",
      "min         1.000000  2000.000000    1.000000            NaN    1.00000\n",
      "25%     79501.000000  2000.000000    1.000000            NaN    1.00000\n",
      "50%    159001.000000  2000.000000    1.500000            NaN    2.00000\n",
      "75%    238501.000000  4000.000000    2.000000            NaN    3.00000\n",
      "max    318001.000000  4000.000000    2.000000            NaN    3.00000\n"
     ]
    }
   ],
   "source": [
    "\n",
    "\n",
    "# Load participants.tsv into a DataFrame\n",
    "participants_df = pd.read_csv(os.path.join(folder_path, \"participants.tsv\"), sep=\"\\t\")\n",
    "print(\"Participants DataFrame:\")\n",
    "print(participants_df.head())  # View the first few rows of the dataset\n",
    "print(participants_df.info()) # et basic info\n",
    "print(participants_df.describe())\n",
    "\n",
    "print(\"-----------------------------------------\")\n",
    "# Load task-motor-imagery_events.tsv into a DataFrame\n",
    "events_df = pd.read_csv(os.path.join(folder_path, \"task-motor-imagery_events.tsv\"), sep=\"\\t\")\n",
    "print(\"Events DataFrame:\")\n",
    "print(events_df.head())\n",
    "print(events_df.info())\n",
    "print(events_df.describe())\n"
   ]
  },
  {
   "cell_type": "code",
   "execution_count": 6,
   "metadata": {},
   "outputs": [
    {
     "name": "stdout",
     "output_type": "stream",
     "text": [
      "Participant_ID    0\n",
      "Gender            0\n",
      "Age               0\n",
      "Duration          0\n",
      "ParalysisSide     0\n",
      "Handedness        0\n",
      "IsFirstTime       0\n",
      "StrokeLocation    0\n",
      "NIHSS             0\n",
      "MBI               0\n",
      "mRS               0\n",
      "dtype: int64\n"
     ]
    }
   ],
   "source": [
    "# Check for missing values\n",
    "print(participants_df.isnull().sum())\n",
    "\n",
    "# Option 1: Drop rows/columns with missing values\n",
    "participants_df.dropna(axis=0, inplace=True)\n",
    "\n",
    "# Option 2: Fill missing values (imputation)\n",
    "participants_df['Age'].fillna(participants_df['Age'].median(), inplace=True)\n",
    "participants_df['Gender'].fillna('unknown', inplace=True)\n"
   ]
  },
  {
   "cell_type": "code",
   "execution_count": 7,
   "metadata": {},
   "outputs": [
    {
     "name": "stdout",
     "output_type": "stream",
     "text": [
      "onset              0\n",
      "duration           0\n",
      "trial_type         0\n",
      "response_time    120\n",
      "value              0\n",
      "stim_file          0\n",
      "dtype: int64\n"
     ]
    }
   ],
   "source": [
    "# Check for missing values\n",
    "print(events_df.isnull().sum())"
   ]
  },
  {
   "cell_type": "code",
   "execution_count": 8,
   "metadata": {},
   "outputs": [],
   "source": [
    "# Create a backup of the original DataFrame\n",
    "events_df_backup = events_df.copy()\n",
    "\n",
    "# Drop the response_time column in the working DataFrame\n",
    "events_df = events_df.drop(columns=['response_time'])\n"
   ]
  },
  {
   "cell_type": "code",
   "execution_count": 9,
   "metadata": {},
   "outputs": [
    {
     "name": "stdout",
     "output_type": "stream",
     "text": [
      "onset         0\n",
      "duration      0\n",
      "trial_type    0\n",
      "value         0\n",
      "stim_file     0\n",
      "dtype: int64\n",
      "-----------------------------------\n",
      "onset              0\n",
      "duration           0\n",
      "trial_type         0\n",
      "response_time    120\n",
      "value              0\n",
      "stim_file          0\n",
      "dtype: int64\n"
     ]
    }
   ],
   "source": [
    "# Check for missing values for events_df\n",
    "print(events_df.isnull().sum())\n",
    "\n",
    "print(\"-----------------------------------\")\n",
    "\n",
    "# Check for missing values of backup \n",
    "print(events_df_backup.isnull().sum())\n"
   ]
  },
  {
   "cell_type": "code",
   "execution_count": 10,
   "metadata": {},
   "outputs": [
    {
     "name": "stdout",
     "output_type": "stream",
     "text": [
      "task-motor-imagery_channels DataFrame:\n",
      "  name type units status  status_description\n",
      "0  FP1  EEG    μV   good                 NaN\n",
      "1  FP2  EEG    μV   good                 NaN\n",
      "2   Fz  EEG    μV   good                 NaN\n",
      "3   F3  EEG    μV   good                 NaN\n",
      "4   F4  EEG    μV   good                 NaN\n",
      "-------------------------------------------------------\n",
      "Electrode DataFrame:\n",
      "  name      X      Y       Z\n",
      "0  FP1  0.950  0.309 -0.0349\n",
      "1  FP2  0.950 -0.309 -0.0349\n",
      "2   Fz  0.719 -0.000  0.6950\n",
      "3   F3  0.673  0.545  0.5000\n",
      "4   F4  0.673 -0.545  0.5000\n"
     ]
    }
   ],
   "source": [
    "tmic_df = pd.read_csv(os.path.join(folder_path, \"task-motor-imagery_channels.tsv\"), sep=\"\\t\")\n",
    "print(\"task-motor-imagery_channels DataFrame:\")\n",
    "print(tmic_df.head())  # View the first few rows of the dataset\n",
    "\n",
    "\n",
    "print(\"-------------------------------------------------------\")\n",
    "\n",
    "# Load task-motor-imagery_events.tsv into a DataFrame\n",
    "tmiElectrodes_df = pd.read_csv(os.path.join(folder_path, \"task-motor-imagery_electrodes.tsv\"), sep=\"\\t\")\n",
    "print(\"Electrode DataFrame:\")\n",
    "print(tmiElectrodes_df.head())\n"
   ]
  },
  {
   "cell_type": "code",
   "execution_count": 11,
   "metadata": {},
   "outputs": [
    {
     "name": "stdout",
     "output_type": "stream",
     "text": [
      "name                   0\n",
      "type                   0\n",
      "units                  0\n",
      "status                 0\n",
      "status_description    31\n",
      "dtype: int64\n",
      "--------------------------------\n",
      "name    0\n",
      "X       0\n",
      "Y       0\n",
      "Z       0\n",
      "dtype: int64\n"
     ]
    }
   ],
   "source": [
    "# check the missing values for task-motor-imagery_channels\n",
    "print(tmic_df.isnull().sum())\n",
    "\n",
    "print(\"--------------------------------\")\n",
    "\n",
    "# check the missing values for task-motor-imagery_Electrodes\n",
    "print(tmiElectrodes_df.isnull().sum())"
   ]
  },
  {
   "cell_type": "code",
   "execution_count": 12,
   "metadata": {},
   "outputs": [
    {
     "data": {
      "image/png": "[encoded data removed]",
      "text/plain": [
       "<Figure size 576x432 with 1 Axes>"
      ]
     },
     "metadata": {
      "needs_background": "light"
     },
     "output_type": "display_data"
    }
   ],
   "source": [
    "# Visualize distribution of age in participants data\n",
    "plt.figure(figsize=(8, 6))\n",
    "sns.distplot(participants_df['Age'], kde=True, bins=10)\n",
    "plt.title('Age Distribution of Participants')\n",
    "plt.xlabel('Age')\n",
    "plt.ylabel('Frequency')\n",
    "plt.show()\n"
   ]
  }
 ],
 "metadata": {
  "kernelspec": {
   "display_name": "base",
   "language": "python",
   "name": "python3"
  },
  "language_info": {
   "codemirror_mode": {
    "name": "ipython",
    "version": 3
   },
   "file_extension": ".py",
   "mimetype": "text/x-python",
   "name": "python",
   "nbconvert_exporter": "python",
   "pygments_lexer": "ipython3",
   "version": "3.7.3"
  }
 },
 "nbformat": 4,
 "nbformat_minor": 2
}
